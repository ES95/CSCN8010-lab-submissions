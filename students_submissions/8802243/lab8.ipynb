{
 "cells": [
  {
   "cell_type": "markdown",
   "metadata": {},
   "source": [
    "\n",
    "# lab 8\n",
    "# Hamir Ranavaya\n",
    "# 8802243"
   ]
  },
  {
   "cell_type": "markdown",
   "metadata": {},
   "source": [
    "# Using PyTorch: \n",
    "  * Calculate the dot product between two vectors each of length 3 (1.5 points)"
   ]
  },
  {
   "cell_type": "code",
   "execution_count": 1,
   "metadata": {},
   "outputs": [
    {
     "name": "stdout",
     "output_type": "stream",
     "text": [
      "Dot Product: tensor(40)\n"
     ]
    }
   ],
   "source": [
    "import torch\n",
    "\n",
    "A = torch.tensor([3, 4, 5])\n",
    "B = torch.tensor([9, 2, 1])\n",
    "\n",
    "print('Dot Product:', torch.dot(A, B))"
   ]
  },
  {
   "cell_type": "markdown",
   "metadata": {},
   "source": [
    "  * Calculate the matrix multiplication of two 2-dimensional matrices, each with a size of (2,2) (1.5 points)"
   ]
  },
  {
   "cell_type": "code",
   "execution_count": 3,
   "metadata": {},
   "outputs": [
    {
     "name": "stdout",
     "output_type": "stream",
     "text": [
      "Matrix Multiplication: tensor([[ 188, 2068],\n",
      "        [ 376, 4136]])\n"
     ]
    }
   ],
   "source": [
    "C = torch.tensor([[2, 22], [4, 44]])\n",
    "D = torch.tensor([[6, 66], [8, 88]])\n",
    "\n",
    "print(\"Matrix Multiplication:\", torch.matmul(C,D))"
   ]
  },
  {
   "cell_type": "markdown",
   "metadata": {},
   "source": [
    "# Using Tensorflow: \n",
    "  * Calculate the dot product between the same vectors as above (re-define them in Tensorflow) (1.5 points)\n"
   ]
  },
  {
   "cell_type": "code",
   "execution_count": 1,
   "metadata": {},
   "outputs": [
    {
     "name": "stderr",
     "output_type": "stream",
     "text": [
      "2023-07-14 23:47:59.008469: I tensorflow/core/platform/cpu_feature_guard.cc:182] This TensorFlow binary is optimized to use available CPU instructions in performance-critical operations.\n",
      "To enable the following instructions: AVX2 FMA, in other operations, rebuild TensorFlow with the appropriate compiler flags.\n"
     ]
    },
    {
     "name": "stdout",
     "output_type": "stream",
     "text": [
      "Dot Product: tf.Tensor(1735, shape=(), dtype=int32)\n"
     ]
    }
   ],
   "source": [
    "import tensorflow as tf\n",
    "\n",
    "A = tf.constant([2, 13, 45])\n",
    "B = tf.constant([1, 26, 31])\n",
    "\n",
    "print('Dot Product:', tf.tensordot(A, B, axes=1))"
   ]
  },
  {
   "cell_type": "markdown",
   "metadata": {},
   "source": [
    "  * Calculate the matrix multiplication of the same matrics as above (re-define them in Tensorflow) (1.5 points)\n"
   ]
  },
  {
   "cell_type": "code",
   "execution_count": 2,
   "metadata": {},
   "outputs": [
    {
     "name": "stdout",
     "output_type": "stream",
     "text": [
      "Matrix Multiplication : tf.Tensor(\n",
      "[[ 188 2068]\n",
      " [ 376 4136]], shape=(2, 2), dtype=int32)\n"
     ]
    }
   ],
   "source": [
    "C = tf.constant([[2, 22], [4, 44]])\n",
    "D = tf.constant([[6, 66], [8, 88]])\n",
    "\n",
    "print(\"Matrix Multiplication :\", tf.matmul(C,D))"
   ]
  }
 ],
 "metadata": {
  "kernelspec": {
   "display_name": "pytorch_cpu",
   "language": "python",
   "name": "python3"
  },
  "language_info": {
   "codemirror_mode": {
    "name": "ipython",
    "version": 3
   },
   "file_extension": ".py",
   "mimetype": "text/x-python",
   "name": "python",
   "nbconvert_exporter": "python",
   "pygments_lexer": "ipython3",
   "version": "3.11.4"
  },
  "orig_nbformat": 4
 },
 "nbformat": 4,
 "nbformat_minor": 2
}
