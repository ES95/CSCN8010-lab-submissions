{
 "cells": [
  {
   "cell_type": "markdown",
   "metadata": {},
   "source": [
    "## LAB_10 - Fine-Tune VGG16 for Bird Classification\n",
    "### Name: Ramya Chandran\n",
    "### StudenID: 8895789"
   ]
  },
  {
   "cell_type": "markdown",
   "metadata": {},
   "source": [
    "In this lab, we will work through a common practice of Deep Learning Engineers - that is - take an existing model, that does something similar to what the engineer is interested doing, and fine-tune it for the specific task at-hand. \n",
    "\n",
    "This lab is the last one, so it is a bit more elaborated than the others. So make sure to take time to work through it.\n",
    "\n",
    "A good starting point is to use the code in the notebook we went over in class - for fine-tuning VGG16. \n",
    "\n",
    "The goal of this lab is to achieve the best classification performance over three classes (species) of birds. This should be done by exploring data augmentation and fine-tuning of a pre-trained model (VGG16). Finally, explore and describe the results. \n",
    "\n",
    "If you are interested, you are encouraged to explore various training configurations, and see which one works better.\n",
    "\n",
    "1. Obtain the Data\n",
    "    1. Download the [BIRDS 525 SPECIES](https://www.kaggle.com/datasets/gpiosenka/100-bird-species?select=train) dataset from Kaggle (CC0 license). You will need to create a free Kaggle account, and this will provide you free access to many such datasets, as well as code and even online notebooks. \n",
    "    2. Unpack the data. Notice that the data is organized into folders in a way similar to the Dogs vs Cats dataset that we worked with. This makes it easy to load with the same Keras function (`ImageDataGenerator.flow_from_directory`). \n",
    "    3. For this lab, we will work with the 3 classes with the highest number of images. Identify those classes, and use only these for the next steps. You can delete/discard the others.\n"
   ]
  },
  {
   "cell_type": "code",
   "execution_count": 63,
   "metadata": {},
   "outputs": [],
   "source": [
    "import numpy as np\n",
    "import matplotlib.pyplot as plt\n",
    "from sklearn.metrics import classification_report, confusion_matrix, precision_recall_curve, auc\n",
    "from keras.utils import to_categorical\n",
    "from sklearn.preprocessing import label_binarize\n",
    "import tensorflow as tf\n",
    "from tensorflow import keras\n",
    "from tensorflow.keras import layers\n",
    "from tensorflow.keras.utils import image_dataset_from_directory\n",
    "from tensorflow.keras.applications import VGG16\n",
    "from tensorflow.keras.models import Model\n",
    "from tensorflow.keras.layers import Dense, GlobalAveragePooling2D, Flatten\n",
    "from tensorflow.keras.preprocessing.image import ImageDataGenerator\n",
    "from tensorflow.keras.optimizers import Adam\n",
    "from tensorflow.keras.models import Sequential\n",
    "import pathlib\n",
    "import matplotlib.pyplot as plt\n",
    "import os\n",
    "import shutil\n",
    "from collections import Counter"
   ]
  },
  {
   "cell_type": "code",
   "execution_count": 64,
   "metadata": {},
   "outputs": [
    {
     "name": "stdout",
     "output_type": "stream",
     "text": [
      "Top 3 Classes: ['WOOD DUCK', 'CASPIAN TERN', 'RED BILLED TROPICBIRD']\n"
     ]
    }
   ],
   "source": [
    "\n",
    "# Obtain the Data\n",
    "data_dir = '/Users/ramyachandran/Documents/MLFoundation/CSCN8010-lab-submissions/archive'\n",
    "train_dir = os.path.join(data_dir, 'train')\n",
    "\n",
    "# Identify Top 3 Classes\n",
    "def count_images_per_class(directory):\n",
    "    class_counts = Counter()\n",
    "    for class_name in os.listdir(directory):\n",
    "        class_path = os.path.join(directory, class_name)\n",
    "        if os.path.isdir(class_path):\n",
    "            num_images = len(os.listdir(class_path))\n",
    "            class_counts[class_name] = num_images\n",
    "    return class_counts\n",
    "\n",
    "class_counts = count_images_per_class(train_dir)\n",
    "top_3_classes = sorted(class_counts, key=class_counts.get, reverse=True)[:3]\n",
    "\n",
    "print(\"Top 3 Classes:\", top_3_classes)\n"
   ]
  },
  {
   "cell_type": "markdown",
   "metadata": {},
   "source": [
    "2) Use data-augmentation to increase the number of training and validation images. You are encouraged to try out various augmentation methods supported by Keras. The rule of thumb is that as long as an augmentation produces realistic images - it is probably a good idea to add it.(2 point)"
   ]
  },
  {
   "cell_type": "code",
   "execution_count": 65,
   "metadata": {},
   "outputs": [],
   "source": [
    "# Data Augmentation\n",
    "batch_size = 32\n",
    "input_size = (224, 224)\n",
    "\n",
    "train_datagen = ImageDataGenerator(\n",
    "    rescale=1./255,\n",
    "    rotation_range=20,\n",
    "    width_shift_range=0.2,\n",
    "    height_shift_range=0.2,\n",
    "    shear_range=0.2,\n",
    "    zoom_range=0.2,\n",
    "    horizontal_flip=True,\n",
    "    fill_mode='nearest'\n",
    ")\n",
    "\n",
    "validation_datagen = ImageDataGenerator(rescale=1./255)\n"
   ]
  },
  {
   "cell_type": "code",
   "execution_count": 66,
   "metadata": {},
   "outputs": [
    {
     "name": "stdout",
     "output_type": "stream",
     "text": [
      "Found 639 images belonging to 3 classes.\n",
      "Found 15 images belonging to 3 classes.\n",
      "Found 15 images belonging to 3 classes.\n"
     ]
    }
   ],
   "source": [
    "\n",
    "# Train, Validation, and Test Data Generators\n",
    "train_dir = os.path.join(data_dir, 'train')\n",
    "validation_dir = os.path.join(data_dir, 'valid')\n",
    "test_dir = os.path.join(data_dir, 'test')\n",
    "\n",
    "top_3_classes = ['WOOD DUCK', 'CASPIAN TERN', 'RED BILLED TROPICBIRD'] \n",
    "\n",
    "train_generator = train_datagen.flow_from_directory(\n",
    "    train_dir,\n",
    "    target_size=input_size,\n",
    "    batch_size=batch_size,\n",
    "    class_mode='categorical',\n",
    "    classes=top_3_classes\n",
    ")\n",
    "\n",
    "validation_generator = validation_datagen.flow_from_directory(\n",
    "    validation_dir,\n",
    "    target_size=input_size,\n",
    "    batch_size=batch_size,\n",
    "    class_mode='categorical',\n",
    "    classes=top_3_classes,\n",
    "    shuffle=False\n",
    ")\n",
    "\n",
    "test_datagen = ImageDataGenerator(rescale=1./255)\n",
    "\n",
    "test_generator = test_datagen.flow_from_directory(\n",
    "    test_dir,\n",
    "    target_size=input_size,\n",
    "    batch_size=batch_size,\n",
    "    class_mode='categorical',\n",
    "    classes=top_3_classes,\n",
    "    shuffle=False\n",
    ")"
   ]
  },
  {
   "cell_type": "markdown",
   "metadata": {},
   "source": [
    "3. Fine-Tune `VGG16` (pre-trained on `imagenet`), to classify the 3 classes (2 points)"
   ]
  },
  {
   "cell_type": "code",
   "execution_count": 67,
   "metadata": {},
   "outputs": [
    {
     "name": "stderr",
     "output_type": "stream",
     "text": [
      "WARNING:absl:At this time, the v2.11+ optimizer `tf.keras.optimizers.Adam` runs slowly on M1/M2 Macs, please use the legacy Keras optimizer instead, located at `tf.keras.optimizers.legacy.Adam`.\n",
      "WARNING:absl:`lr` is deprecated in Keras optimizer, please use `learning_rate` or use the legacy optimizer, e.g.,tf.keras.optimizers.legacy.Adam.\n",
      "WARNING:absl:There is a known slowdown when using v2.11+ Keras optimizers on M1/M2 Macs. Falling back to the legacy Keras optimizer, i.e., `tf.keras.optimizers.legacy.Adam`.\n"
     ]
    },
    {
     "name": "stdout",
     "output_type": "stream",
     "text": [
      "Epoch 1/10\n",
      "20/20 [==============================] - 5s 225ms/step - loss: 0.9832 - accuracy: 0.5227 - val_loss: 0.5402 - val_accuracy: 0.9333\n",
      "Epoch 2/10\n",
      "20/20 [==============================] - 4s 196ms/step - loss: 0.5906 - accuracy: 0.7809 - val_loss: 0.2950 - val_accuracy: 1.0000\n",
      "Epoch 3/10\n",
      "20/20 [==============================] - 4s 190ms/step - loss: 0.4665 - accuracy: 0.8357 - val_loss: 0.2516 - val_accuracy: 0.9333\n",
      "Epoch 4/10\n",
      "20/20 [==============================] - 4s 187ms/step - loss: 0.4046 - accuracy: 0.8482 - val_loss: 0.2167 - val_accuracy: 0.9333\n",
      "Epoch 5/10\n",
      "20/20 [==============================] - 4s 187ms/step - loss: 0.3561 - accuracy: 0.8748 - val_loss: 0.2390 - val_accuracy: 0.8000\n",
      "Epoch 6/10\n",
      "20/20 [==============================] - 4s 192ms/step - loss: 0.3393 - accuracy: 0.8638 - val_loss: 0.1801 - val_accuracy: 0.8667\n",
      "Epoch 7/10\n",
      "20/20 [==============================] - 4s 192ms/step - loss: 0.3093 - accuracy: 0.8889 - val_loss: 0.1912 - val_accuracy: 0.8667\n",
      "Epoch 8/10\n",
      "20/20 [==============================] - 4s 194ms/step - loss: 0.2798 - accuracy: 0.9045 - val_loss: 0.1836 - val_accuracy: 0.8667\n",
      "Epoch 9/10\n",
      "20/20 [==============================] - 4s 186ms/step - loss: 0.2695 - accuracy: 0.8951 - val_loss: 0.1573 - val_accuracy: 1.0000\n",
      "Epoch 10/10\n",
      "20/20 [==============================] - 4s 187ms/step - loss: 0.2211 - accuracy: 0.9296 - val_loss: 0.1253 - val_accuracy: 1.0000\n"
     ]
    },
    {
     "data": {
      "text/plain": [
       "<keras.callbacks.History at 0x377888d50>"
      ]
     },
     "execution_count": 67,
     "metadata": {},
     "output_type": "execute_result"
    }
   ],
   "source": [
    "# Fine-Tune VGG16\n",
    "num_classes = len(train_generator.class_indices)\n",
    "\n",
    "base_model = VGG16(weights='imagenet', include_top=False, input_shape=(224, 224, 3))\n",
    "\n",
    "x = base_model.output\n",
    "x = GlobalAveragePooling2D()(x)\n",
    "x = Dense(512, activation='relu')(x)\n",
    "predictions = Dense(num_classes, activation='softmax')(x)\n",
    "\n",
    "model = Model(inputs=base_model.input, outputs=predictions)\n",
    "\n",
    "for layer in base_model.layers:\n",
    "    layer.trainable = False\n",
    "\n",
    "optimizer = Adam(lr=0.001)\n",
    "model.compile(optimizer=optimizer, loss='categorical_crossentropy', metrics=['accuracy'])\n",
    "\n",
    "epochs = 10\n",
    "model.fit(train_generator, epochs=epochs, validation_data=validation_generator)\n"
   ]
  },
  {
   "cell_type": "markdown",
   "metadata": {},
   "source": [
    "4. Explore the model performance: accuracy, confusion metric, precision, recall, F1-score, precision-recall curve and its area under the curve (AUC). Explore specific examples in which the model failed to predict correctly. (2 points)"
   ]
  },
  {
   "cell_type": "code",
   "execution_count": 68,
   "metadata": {},
   "outputs": [
    {
     "name": "stdout",
     "output_type": "stream",
     "text": [
      "1/1 [==============================] - 0s 113ms/step\n",
      "Accuracy: 1.0\n",
      "Confusion Matrix:\n",
      " [[5 0 0]\n",
      " [0 5 0]\n",
      " [0 0 5]]\n",
      "Classification Report:\n",
      "                        precision    recall  f1-score   support\n",
      "\n",
      "            WOOD DUCK       1.00      1.00      1.00         5\n",
      "         CASPIAN TERN       1.00      1.00      1.00         5\n",
      "RED BILLED TROPICBIRD       1.00      1.00      1.00         5\n",
      "\n",
      "             accuracy                           1.00        15\n",
      "            macro avg       1.00      1.00      1.00        15\n",
      "         weighted avg       1.00      1.00      1.00        15\n",
      "\n"
     ]
    }
   ],
   "source": [
    "#  Model Performance Evaluation\n",
    "predictions = model.predict(test_generator)\n",
    "y_pred = np.argmax(predictions, axis=1)\n",
    "y_true = test_generator.classes\n",
    "\n",
    "accuracy = np.mean(y_pred == y_true)\n",
    "confusion = confusion_matrix(y_true, y_pred)\n",
    "report = classification_report(y_true, y_pred, target_names=top_3_classes)\n",
    "\n",
    "print(\"Accuracy:\", accuracy)\n",
    "print(\"Confusion Matrix:\\n\", confusion)\n",
    "print(\"Classification Report:\\n\", report)\n"
   ]
  },
  {
   "cell_type": "code",
   "execution_count": 69,
   "metadata": {},
   "outputs": [],
   "source": [
    "# Step 8: Analyze Model Failures\n",
    "misclassified_indices = np.where(y_pred != y_true)[0]\n",
    "\n",
    "for idx in misclassified_indices:\n",
    "    image_path = test_generator.filepaths[idx]\n",
    "    true_label = top_3_classes[y_true[idx]]\n",
    "    predicted_label = top_3_classes[y_pred[idx]]\n",
    "\n",
    "    img = load_img(image_path, target_size=input_size)\n",
    "    img_array = img_to_array(img)\n",
    "    plt.imshow(img_array / 255.0)\n",
    "    plt.title(f'True Label: {true_label}, Predicted Label: {predicted_label}')\n",
    "    plt.axis('off')\n",
    "    plt.show()"
   ]
  },
  {
   "cell_type": "code",
   "execution_count": 70,
   "metadata": {},
   "outputs": [
    {
     "name": "stdout",
     "output_type": "stream",
     "text": [
      "Epoch 1/10\n",
      "20/20 [==============================] - 4s 189ms/step - loss: 0.2451 - accuracy: 0.9077 - val_loss: 0.1150 - val_accuracy: 1.0000\n",
      "Epoch 2/10\n",
      "20/20 [==============================] - 4s 187ms/step - loss: 0.2290 - accuracy: 0.9233 - val_loss: 0.1097 - val_accuracy: 1.0000\n",
      "Epoch 3/10\n",
      "20/20 [==============================] - 4s 188ms/step - loss: 0.2190 - accuracy: 0.9155 - val_loss: 0.1192 - val_accuracy: 1.0000\n",
      "Epoch 4/10\n",
      "20/20 [==============================] - 4s 186ms/step - loss: 0.2130 - accuracy: 0.9218 - val_loss: 0.1341 - val_accuracy: 1.0000\n",
      "Epoch 5/10\n",
      "20/20 [==============================] - 4s 187ms/step - loss: 0.2068 - accuracy: 0.9202 - val_loss: 0.1310 - val_accuracy: 1.0000\n",
      "Epoch 6/10\n",
      "20/20 [==============================] - 4s 187ms/step - loss: 0.2014 - accuracy: 0.9171 - val_loss: 0.1193 - val_accuracy: 0.9333\n",
      "Epoch 7/10\n",
      "20/20 [==============================] - 4s 188ms/step - loss: 0.2019 - accuracy: 0.9202 - val_loss: 0.0947 - val_accuracy: 1.0000\n",
      "Epoch 8/10\n",
      "20/20 [==============================] - 4s 187ms/step - loss: 0.2011 - accuracy: 0.9155 - val_loss: 0.0700 - val_accuracy: 1.0000\n",
      "Epoch 9/10\n",
      "20/20 [==============================] - 4s 186ms/step - loss: 0.1712 - accuracy: 0.9327 - val_loss: 0.0786 - val_accuracy: 1.0000\n",
      "Epoch 10/10\n",
      "20/20 [==============================] - 4s 188ms/step - loss: 0.1647 - accuracy: 0.9343 - val_loss: 0.0892 - val_accuracy: 1.0000\n"
     ]
    }
   ],
   "source": [
    "history = model.fit(\n",
    "    train_generator,\n",
    "    epochs=10,\n",
    "    validation_data=validation_generator\n",
    ")"
   ]
  },
  {
   "cell_type": "code",
   "execution_count": 71,
   "metadata": {},
   "outputs": [
    {
     "data": {
      "image/png": "[encoded data removed]",
      "text/plain": [
       "<Figure size 640x480 with 1 Axes>"
      ]
     },
     "metadata": {},
     "output_type": "display_data"
    },
    {
     "data": {
      "image/png": "[encoded data removed]",
      "text/plain": [
       "<Figure size 640x480 with 1 Axes>"
      ]
     },
     "metadata": {},
     "output_type": "display_data"
    }
   ],
   "source": [
    "# Accuracy for training and validation\n",
    "acc = history.history[\"accuracy\"]\n",
    "val_acc = history.history[\"val_accuracy\"]\n",
    "loss = history.history[\"loss\"]\n",
    "val_loss = history.history[\"val_loss\"]\n",
    "epochs = range(1, len(acc) + 1)\n",
    "plt.plot(epochs, acc, \"bo\", label=\"Training accuracy\")\n",
    "plt.plot(epochs, val_acc, \"b\", label=\"Validation accuracy\")\n",
    "plt.title(\"Training and validation accuracy\")\n",
    "plt.legend()\n",
    "plt.figure()\n",
    "plt.plot(epochs, loss, \"bo\", label=\"Training loss\")\n",
    "plt.plot(epochs, val_loss, \"b\", label=\"Validation loss\")\n",
    "plt.title(\"Training and validation loss\")\n",
    "plt.legend()\n",
    "plt.show()"
   ]
  },
  {
   "cell_type": "code",
   "execution_count": null,
   "metadata": {},
   "outputs": [],
   "source": []
  }
 ],
 "metadata": {
  "kernelspec": {
   "display_name": "tensorflow_apple",
   "language": "python",
   "name": "python3"
  },
  "language_info": {
   "codemirror_mode": {
    "name": "ipython",
    "version": 3
   },
   "file_extension": ".py",
   "mimetype": "text/x-python",
   "name": "python",
   "nbconvert_exporter": "python",
   "pygments_lexer": "ipython3",
   "version": "3.11.4"
  },
  "orig_nbformat": 4
 },
 "nbformat": 4,
 "nbformat_minor": 2
}
