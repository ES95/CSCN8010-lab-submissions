{
 "cells": [
  {
   "cell_type": "markdown",
   "id": "848d21a5",
   "metadata": {},
   "source": [
    "#### ARJUN KC (8773456)"
   ]
  },
  {
   "cell_type": "markdown",
   "id": "175dacd8",
   "metadata": {},
   "source": [
    "### Fashion MNIST(fMNIST) dataset is also popular dataset for  image classification where it contains 70K gray images of fashion product which belongs to the 10 classes,where 60k images are used for training and 10k is used for testing."
   ]
  },
  {
   "cell_type": "markdown",
   "id": "a5e81cd5",
   "metadata": {},
   "source": [
    "### Loading all the necessary libraries for tensorflow"
   ]
  },
  {
   "cell_type": "code",
   "execution_count": 44,
   "id": "31745544",
   "metadata": {},
   "outputs": [],
   "source": [
    "import tensorflow as tf\n",
    "from tensorflow import keras\n",
    "from tensorflow.keras import layers\n",
    "from tensorflow.keras.datasets import fashion_mnist\n",
    "import numpy as np\n",
    "import matplotlib.pyplot as plt\n",
    "from keras.utils import to_categorical\n",
    "import sklearn\n",
    "from sklearn.metrics import confusion_matrix"
   ]
  },
  {
   "cell_type": "markdown",
   "id": "1a1a9f0e",
   "metadata": {},
   "source": [
    "### Loading the dataset"
   ]
  },
  {
   "cell_type": "code",
   "execution_count": 45,
   "id": "a2aec9aa",
   "metadata": {},
   "outputs": [],
   "source": [
    "(train_images,train_labels),(test_images,test_labels) = fashion_mnist.load_data()"
   ]
  },
  {
   "cell_type": "markdown",
   "id": "ae8890b6",
   "metadata": {},
   "source": [
    "#### Data Exploration of Fashion MNIST(fMNIST)"
   ]
  },
  {
   "cell_type": "code",
   "execution_count": 46,
   "id": "16191253",
   "metadata": {},
   "outputs": [
    {
     "name": "stdout",
     "output_type": "stream",
     "text": [
      "Images DType: <class 'numpy.ndarray'>\n",
      "Image Element DType: <class 'numpy.uint8'>\n",
      "Label Element DType: <class 'numpy.uint8'>\n",
      "................................................\n",
      "**Shapes**\n",
      "Train Data:\n",
      "Images: (60000, 28, 28)\n",
      "Labels: (60000,)\n",
      ".................................................\n",
      "Test Data:\n",
      "Images:(10000, 28, 28)\n",
      "Labels:(10000,)\n",
      "..................................................\n",
      "Image Data Range \n",
      "Min:0\n",
      "Max:255\n"
     ]
    }
   ],
   "source": [
    "print(f'Images DType: {type(train_images)}')  #print Numpy array containing images and its type\n",
    "print(f'Image Element DType: {type(train_images[0,0,0])}') #defines that element in the numpy array which contain images has unit8 which means Unsigned 8-bit integer and value ranging from 0 to 255\n",
    "print(f'Label Element DType: {type(train_labels[0])}')  #defines that label element in the numpy array which contain images has unit8 which means Unsigned 8-bit integer and value ranging from 0 to 255\n",
    "print(\"................................................\")\n",
    "print(\"**Shapes**\")\n",
    "print('Train Data:')\n",
    "print(f'Images: {train_images.shape}')  #defines the number of images with dimension of width and height for training data\n",
    "print(f'Labels: {train_labels.shape}')\n",
    "print(\".................................................\")\n",
    "print('Test Data:')\n",
    "print(f'Images:{test_images.shape}') #defines the number of images with dimension of width and height for testing data\n",
    "print(f'Labels:{test_labels.shape}')\n",
    "print(\"..................................................\")\n",
    "print(\"Image Data Range \")  # defines image pixel value ranging from min to max\n",
    "print(f'Min:{train_images.min()}')\n",
    "print(f'Max:{train_images.max()}')\n",
    "\n"
   ]
  },
  {
   "cell_type": "markdown",
   "id": "5d56e55c",
   "metadata": {},
   "source": [
    "#### Identifying the number of classes and labels"
   ]
  },
  {
   "cell_type": "code",
   "execution_count": 47,
   "id": "24026c3c",
   "metadata": {},
   "outputs": [
    {
     "name": "stdout",
     "output_type": "stream",
     "text": [
      "Number of classes:10\n",
      "Number of labels:[0 1 2 3 4 5 6 7 8 9]\n"
     ]
    }
   ],
   "source": [
    "num_class = len(np.unique(train_labels))\n",
    "num_labels = np.unique(train_labels)\n",
    "print(f'Number of classes:{num_class}')\n",
    "print(f'Number of labels:{num_labels}')"
   ]
  },
  {
   "cell_type": "code",
   "execution_count": 48,
   "id": "2b547e79",
   "metadata": {},
   "outputs": [
    {
     "data": {
      "text/plain": [
       "array([9, 0, 0, 3, 0, 2, 7, 2, 5, 5], dtype=uint8)"
      ]
     },
     "execution_count": 48,
     "metadata": {},
     "output_type": "execute_result"
    }
   ],
   "source": [
    "train_labels[0:10] ## first 10elements where element in the array represents the respective image of training dataset."
   ]
  },
  {
   "cell_type": "markdown",
   "id": "f1ff6b1a",
   "metadata": {},
   "source": [
    "#### Mapping the label to the class"
   ]
  },
  {
   "cell_type": "code",
   "execution_count": 49,
   "id": "fdfbcb4d",
   "metadata": {},
   "outputs": [],
   "source": [
    "class_name = [\"T-shirt/top\", \"Trouser\", \"Pullover\", \"Dress\",\n",
    "    \"Coat\", \"Sandal\", \"Shirt\", \"Sneaker\", \"Bag\", \"Ankle boot\"]"
   ]
  },
  {
   "cell_type": "code",
   "execution_count": 50,
   "id": "f0cacb8a",
   "metadata": {},
   "outputs": [
    {
     "name": "stdout",
     "output_type": "stream",
     "text": [
      "First 10 training labels:\n",
      "9:Ankle boot\n",
      "0:T-shirt/top\n",
      "0:T-shirt/top\n",
      "3:Dress\n",
      "0:T-shirt/top\n",
      "2:Pullover\n",
      "7:Sneaker\n",
      "2:Pullover\n",
      "5:Sandal\n",
      "5:Sandal\n"
     ]
    }
   ],
   "source": [
    "print(\"First 10 training labels:\")\n",
    "for labels in train_labels[:10]:\n",
    "    print(f'{labels}:{class_name[labels]}')"
   ]
  },
  {
   "cell_type": "markdown",
   "id": "11e164b0",
   "metadata": {},
   "source": [
    "#### Ploting the first image in the training set in grayscale "
   ]
  },
  {
   "cell_type": "code",
   "execution_count": 51,
   "id": "cc11f5df",
   "metadata": {},
   "outputs": [
    {
     "data": {
      "text/plain": [
       "<matplotlib.image.AxesImage at 0x230bb4eaca0>"
      ]
     },
     "execution_count": 51,
     "metadata": {},
     "output_type": "execute_result"
    },
    {
     "data": {
      "image/png": "[encoded data removed]",
      "text/plain": [
       "<Figure size 432x288 with 1 Axes>"
      ]
     },
     "metadata": {
      "needs_background": "light"
     },
     "output_type": "display_data"
    }
   ],
   "source": [
    "plt.imshow(train_images[0],cmap= \"gray\") #first image from training set and looks like a ankle boot"
   ]
  },
  {
   "cell_type": "code",
   "execution_count": 52,
   "id": "3460a2d1",
   "metadata": {},
   "outputs": [
    {
     "data": {
      "text/plain": [
       "array([[  0,   0,   0,   0,   0,   0,   0,   0,   0,   0,   0,   0,   0,\n",
       "          0,   0,   0,   0,   0,   0,   0,   0,   0,   0,   0,   0,   0,\n",
       "          0,   0],\n",
       "       [  0,   0,   0,   0,   0,   0,   0,   0,   0,   0,   0,   0,   0,\n",
       "          0,   0,   0,   0,   0,   0,   0,   0,   0,   0,   0,   0,   0,\n",
       "          0,   0],\n",
       "       [  0,   0,   0,   0,   0,   0,   0,   0,   0,   0,   0,   0,   0,\n",
       "          0,   0,   0,   0,   0,   0,   0,   0,   0,   0,   0,   0,   0,\n",
       "          0,   0],\n",
       "       [  0,   0,   0,   0,   0,   0,   0,   0,   0,   0,   0,   0,   1,\n",
       "          0,   0,  13,  73,   0,   0,   1,   4,   0,   0,   0,   0,   1,\n",
       "          1,   0],\n",
       "       [  0,   0,   0,   0,   0,   0,   0,   0,   0,   0,   0,   0,   3,\n",
       "          0,  36, 136, 127,  62,  54,   0,   0,   0,   1,   3,   4,   0,\n",
       "          0,   3],\n",
       "       [  0,   0,   0,   0,   0,   0,   0,   0,   0,   0,   0,   0,   6,\n",
       "          0, 102, 204, 176, 134, 144, 123,  23,   0,   0,   0,   0,  12,\n",
       "         10,   0],\n",
       "       [  0,   0,   0,   0,   0,   0,   0,   0,   0,   0,   0,   0,   0,\n",
       "          0, 155, 236, 207, 178, 107, 156, 161, 109,  64,  23,  77, 130,\n",
       "         72,  15],\n",
       "       [  0,   0,   0,   0,   0,   0,   0,   0,   0,   0,   0,   1,   0,\n",
       "         69, 207, 223, 218, 216, 216, 163, 127, 121, 122, 146, 141,  88,\n",
       "        172,  66],\n",
       "       [  0,   0,   0,   0,   0,   0,   0,   0,   0,   1,   1,   1,   0,\n",
       "        200, 232, 232, 233, 229, 223, 223, 215, 213, 164, 127, 123, 196,\n",
       "        229,   0],\n",
       "       [  0,   0,   0,   0,   0,   0,   0,   0,   0,   0,   0,   0,   0,\n",
       "        183, 225, 216, 223, 228, 235, 227, 224, 222, 224, 221, 223, 245,\n",
       "        173,   0],\n",
       "       [  0,   0,   0,   0,   0,   0,   0,   0,   0,   0,   0,   0,   0,\n",
       "        193, 228, 218, 213, 198, 180, 212, 210, 211, 213, 223, 220, 243,\n",
       "        202,   0],\n",
       "       [  0,   0,   0,   0,   0,   0,   0,   0,   0,   1,   3,   0,  12,\n",
       "        219, 220, 212, 218, 192, 169, 227, 208, 218, 224, 212, 226, 197,\n",
       "        209,  52],\n",
       "       [  0,   0,   0,   0,   0,   0,   0,   0,   0,   0,   6,   0,  99,\n",
       "        244, 222, 220, 218, 203, 198, 221, 215, 213, 222, 220, 245, 119,\n",
       "        167,  56],\n",
       "       [  0,   0,   0,   0,   0,   0,   0,   0,   0,   4,   0,   0,  55,\n",
       "        236, 228, 230, 228, 240, 232, 213, 218, 223, 234, 217, 217, 209,\n",
       "         92,   0],\n",
       "       [  0,   0,   1,   4,   6,   7,   2,   0,   0,   0,   0,   0, 237,\n",
       "        226, 217, 223, 222, 219, 222, 221, 216, 223, 229, 215, 218, 255,\n",
       "         77,   0],\n",
       "       [  0,   3,   0,   0,   0,   0,   0,   0,   0,  62, 145, 204, 228,\n",
       "        207, 213, 221, 218, 208, 211, 218, 224, 223, 219, 215, 224, 244,\n",
       "        159,   0],\n",
       "       [  0,   0,   0,   0,  18,  44,  82, 107, 189, 228, 220, 222, 217,\n",
       "        226, 200, 205, 211, 230, 224, 234, 176, 188, 250, 248, 233, 238,\n",
       "        215,   0],\n",
       "       [  0,  57, 187, 208, 224, 221, 224, 208, 204, 214, 208, 209, 200,\n",
       "        159, 245, 193, 206, 223, 255, 255, 221, 234, 221, 211, 220, 232,\n",
       "        246,   0],\n",
       "       [  3, 202, 228, 224, 221, 211, 211, 214, 205, 205, 205, 220, 240,\n",
       "         80, 150, 255, 229, 221, 188, 154, 191, 210, 204, 209, 222, 228,\n",
       "        225,   0],\n",
       "       [ 98, 233, 198, 210, 222, 229, 229, 234, 249, 220, 194, 215, 217,\n",
       "        241,  65,  73, 106, 117, 168, 219, 221, 215, 217, 223, 223, 224,\n",
       "        229,  29],\n",
       "       [ 75, 204, 212, 204, 193, 205, 211, 225, 216, 185, 197, 206, 198,\n",
       "        213, 240, 195, 227, 245, 239, 223, 218, 212, 209, 222, 220, 221,\n",
       "        230,  67],\n",
       "       [ 48, 203, 183, 194, 213, 197, 185, 190, 194, 192, 202, 214, 219,\n",
       "        221, 220, 236, 225, 216, 199, 206, 186, 181, 177, 172, 181, 205,\n",
       "        206, 115],\n",
       "       [  0, 122, 219, 193, 179, 171, 183, 196, 204, 210, 213, 207, 211,\n",
       "        210, 200, 196, 194, 191, 195, 191, 198, 192, 176, 156, 167, 177,\n",
       "        210,  92],\n",
       "       [  0,   0,  74, 189, 212, 191, 175, 172, 175, 181, 185, 188, 189,\n",
       "        188, 193, 198, 204, 209, 210, 210, 211, 188, 188, 194, 192, 216,\n",
       "        170,   0],\n",
       "       [  2,   0,   0,   0,  66, 200, 222, 237, 239, 242, 246, 243, 244,\n",
       "        221, 220, 193, 191, 179, 182, 182, 181, 176, 166, 168,  99,  58,\n",
       "          0,   0],\n",
       "       [  0,   0,   0,   0,   0,   0,   0,  40,  61,  44,  72,  41,  35,\n",
       "          0,   0,   0,   0,   0,   0,   0,   0,   0,   0,   0,   0,   0,\n",
       "          0,   0],\n",
       "       [  0,   0,   0,   0,   0,   0,   0,   0,   0,   0,   0,   0,   0,\n",
       "          0,   0,   0,   0,   0,   0,   0,   0,   0,   0,   0,   0,   0,\n",
       "          0,   0],\n",
       "       [  0,   0,   0,   0,   0,   0,   0,   0,   0,   0,   0,   0,   0,\n",
       "          0,   0,   0,   0,   0,   0,   0,   0,   0,   0,   0,   0,   0,\n",
       "          0,   0]], dtype=uint8)"
      ]
     },
     "execution_count": 52,
     "metadata": {},
     "output_type": "execute_result"
    }
   ],
   "source": [
    "train_images[0]  #these are the data for the formation first image of training set"
   ]
  },
  {
   "cell_type": "markdown",
   "id": "80533bbf",
   "metadata": {},
   "source": [
    "#### printing the labels of the first image in the training data"
   ]
  },
  {
   "cell_type": "code",
   "execution_count": 53,
   "id": "cbe8b971",
   "metadata": {},
   "outputs": [
    {
     "name": "stdout",
     "output_type": "stream",
     "text": [
      "9\n"
     ]
    }
   ],
   "source": [
    "print(train_labels[0])  # we have mapped above that which number belong to which fashion product"
   ]
  },
  {
   "cell_type": "markdown",
   "id": "565a0eb6",
   "metadata": {},
   "source": [
    "#### Data Processing"
   ]
  },
  {
   "cell_type": "code",
   "execution_count": 54,
   "id": "cd430bad",
   "metadata": {},
   "outputs": [],
   "source": [
    "train_images = train_images.reshape((60000,28*28)) #flattening the 28x28 image into dim=1 (784,) vector (and over all images in the training set)\n",
    "test_images = test_images.reshape((10000, 28*28))\n"
   ]
  },
  {
   "cell_type": "markdown",
   "id": "6a6e162e",
   "metadata": {},
   "source": [
    "Since, the data point for first image of ankle boot is in the pixel value of between 0 to 255,\n",
    "so we need to normalize the pixel value between 0 to 1, for this we follow the follwoing process"
   ]
  },
  {
   "cell_type": "code",
   "execution_count": 55,
   "id": "828eb13a",
   "metadata": {},
   "outputs": [],
   "source": [
    "train_images = train_images.astype(\"float32\")/255 # normalizing the data to the range [0,1] by min-max range, and casting it to float32\n",
    "test_images = test_images.astype(\"float32\")/255"
   ]
  },
  {
   "cell_type": "code",
   "execution_count": 56,
   "id": "551822b0",
   "metadata": {},
   "outputs": [
    {
     "name": "stdout",
     "output_type": "stream",
     "text": [
      "0.0\n",
      "1.0\n"
     ]
    }
   ],
   "source": [
    "print(train_images.min()) # we can see that pixel value between 0 to 255 has been normalized to 0 to 1\n",
    "print(test_images.max())"
   ]
  },
  {
   "cell_type": "code",
   "execution_count": 57,
   "id": "b93a3dee",
   "metadata": {},
   "outputs": [
    {
     "name": "stdout",
     "output_type": "stream",
     "text": [
      "(60000, 784)\n",
      "(784,)\n"
     ]
    }
   ],
   "source": [
    "print(train_images.shape)  #now here we can see the 2*28 image is flatten to 1dimension\n",
    "print(test_images[0].shape)"
   ]
  },
  {
   "cell_type": "markdown",
   "id": "06243673",
   "metadata": {},
   "source": [
    "#### Even we normalize the pixel value between 0 to 1 but we found the image is still the same"
   ]
  },
  {
   "cell_type": "code",
   "execution_count": 58,
   "id": "492b795b",
   "metadata": {},
   "outputs": [
    {
     "data": {
      "text/plain": [
       "<matplotlib.image.AxesImage at 0x230bb273160>"
      ]
     },
     "execution_count": 58,
     "metadata": {},
     "output_type": "execute_result"
    },
    {
     "data": {
      "image/png": "[encoded data removed]",
      "text/plain": [
       "<Figure size 432x288 with 1 Axes>"
      ]
     },
     "metadata": {
      "needs_background": "light"
     },
     "output_type": "display_data"
    }
   ],
   "source": [
    "plt.imshow(train_images[0].reshape(28,28),cmap =\"gray\")"
   ]
  },
  {
   "cell_type": "markdown",
   "id": "2fe3ebfc",
   "metadata": {},
   "source": [
    "#### Train a dense neural network using Keras"
   ]
  },
  {
   "cell_type": "code",
   "execution_count": 59,
   "id": "1fa7cc07",
   "metadata": {},
   "outputs": [],
   "source": [
    "model = keras.Sequential([\n",
    "    layers.Dense(512, activation=\"relu\"),  # 512 neuron in first layer with relu activation function\n",
    "    layers.Dense(10, activation=\"softmax\")  #10 neuron in second layer with softmax activation function\n",
    "])"
   ]
  },
  {
   "cell_type": "markdown",
   "id": "462a0c6e",
   "metadata": {},
   "source": [
    "#### Defining the loss Function, Optimizer, and Metrics"
   ]
  },
  {
   "cell_type": "code",
   "execution_count": 60,
   "id": "6e8dc410",
   "metadata": {},
   "outputs": [],
   "source": [
    "model.compile(optimizer=\"rmsprop\",  # RMSProp is discussed in the Optimizers section\n",
    "              loss=\"sparse_categorical_crossentropy\",\n",
    "              metrics=[\"accuracy\"])"
   ]
  },
  {
   "cell_type": "markdown",
   "id": "78c851bd",
   "metadata": {},
   "source": [
    "#### Training the model or fitting the model"
   ]
  },
  {
   "cell_type": "code",
   "execution_count": 61,
   "id": "94bb987a",
   "metadata": {},
   "outputs": [
    {
     "name": "stdout",
     "output_type": "stream",
     "text": [
      "Epoch 1/5\n",
      "469/469 [==============================] - 3s 6ms/step - loss: 0.5598 - accuracy: 0.8029\n",
      "Epoch 2/5\n",
      "469/469 [==============================] - 3s 6ms/step - loss: 0.3861 - accuracy: 0.8594\n",
      "Epoch 3/5\n",
      "469/469 [==============================] - 3s 6ms/step - loss: 0.3393 - accuracy: 0.8742\n",
      "Epoch 4/5\n",
      "469/469 [==============================] - 3s 6ms/step - loss: 0.3118 - accuracy: 0.8849\n",
      "Epoch 5/5\n",
      "469/469 [==============================] - 3s 6ms/step - loss: 0.2937 - accuracy: 0.8906\n"
     ]
    },
    {
     "data": {
      "text/plain": [
       "<keras.src.callbacks.History at 0x230bb0a4910>"
      ]
     },
     "execution_count": 61,
     "metadata": {},
     "output_type": "execute_result"
    }
   ],
   "source": [
    "model.fit(train_images, train_labels, epochs=5, batch_size=128)\n",
    "#loss is the model performance during training and we need to minimize the loss\n",
    "#accuracy is the curreclty predicted labels during training for epoch 5"
   ]
  },
  {
   "cell_type": "markdown",
   "id": "5af7d4ee",
   "metadata": {},
   "source": [
    "#### Using Model to make predictions"
   ]
  },
  {
   "cell_type": "code",
   "execution_count": 62,
   "id": "b8096492",
   "metadata": {},
   "outputs": [
    {
     "data": {
      "text/plain": [
       "<matplotlib.image.AxesImage at 0x230c0ea59d0>"
      ]
     },
     "execution_count": 62,
     "metadata": {},
     "output_type": "execute_result"
    },
    {
     "data": {
      "image/png": "[encoded data removed]",
      "text/plain": [
       "<Figure size 432x288 with 1 Axes>"
      ]
     },
     "metadata": {
      "needs_background": "light"
     },
     "output_type": "display_data"
    }
   ],
   "source": [
    "plt.imshow(test_images[0].reshape(28,28), cmap='gray')  # the actual image"
   ]
  },
  {
   "cell_type": "markdown",
   "id": "86076c9f",
   "metadata": {},
   "source": [
    "In order to make prediction, model need  2-Dimension array of shape"
   ]
  },
  {
   "cell_type": "code",
   "execution_count": 63,
   "id": "e7bce50b",
   "metadata": {},
   "outputs": [
    {
     "name": "stdout",
     "output_type": "stream",
     "text": [
      "(784,)\n",
      "(1, 784)\n"
     ]
    }
   ],
   "source": [
    "print(test_images[0].shape)  # this will result in an error if given as input to the model (since it is a 1d array)\n",
    "print(test_images[0:1].shape)"
   ]
  },
  {
   "cell_type": "code",
   "execution_count": 64,
   "id": "d93a8948",
   "metadata": {},
   "outputs": [
    {
     "name": "stdout",
     "output_type": "stream",
     "text": [
      "1/1 [==============================] - 0s 52ms/step\n"
     ]
    }
   ],
   "source": [
    "prediction = model.predict(test_images[0:1]) # we did test_images[0:1] jsut to make 2D array os shape"
   ]
  },
  {
   "cell_type": "code",
   "execution_count": 65,
   "id": "8824dbfd",
   "metadata": {},
   "outputs": [
    {
     "data": {
      "text/plain": [
       "array([[4.48064065e-06, 4.96329108e-07, 6.23895460e-07, 7.33549939e-07,\n",
       "        4.31294296e-07, 2.45953258e-03, 4.38507777e-06, 2.11239699e-02,\n",
       "        1.19852324e-04, 9.76285458e-01]], dtype=float32)"
      ]
     },
     "execution_count": 65,
     "metadata": {},
     "output_type": "execute_result"
    }
   ],
   "source": [
    "prediction  # 10 classes, each with a probability"
   ]
  },
  {
   "cell_type": "code",
   "execution_count": 66,
   "id": "125f4c34",
   "metadata": {},
   "outputs": [
    {
     "data": {
      "text/plain": [
       "9"
      ]
     },
     "execution_count": 66,
     "metadata": {},
     "output_type": "execute_result"
    }
   ],
   "source": [
    "prediction.argmax() #the class with the highest probability"
   ]
  },
  {
   "cell_type": "code",
   "execution_count": 67,
   "id": "d4f5f173",
   "metadata": {},
   "outputs": [
    {
     "data": {
      "text/plain": [
       "0.97628546"
      ]
     },
     "execution_count": 67,
     "metadata": {},
     "output_type": "execute_result"
    }
   ],
   "source": [
    "prediction[0, 9]  # the probability of the 9th class (of the zeroth data instance)"
   ]
  },
  {
   "cell_type": "code",
   "execution_count": 68,
   "id": "eec6db72",
   "metadata": {},
   "outputs": [
    {
     "data": {
      "text/plain": [
       "9"
      ]
     },
     "execution_count": 68,
     "metadata": {},
     "output_type": "execute_result"
    }
   ],
   "source": [
    "test_labels[0]  #the actual label"
   ]
  },
  {
   "cell_type": "markdown",
   "id": "4eda779b",
   "metadata": {},
   "source": [
    "Evaluate its accuracy. Report accuracy, confusion metric, explore specific examples of incorrect classification, and drew some conclusions from this exploration"
   ]
  },
  {
   "cell_type": "markdown",
   "id": "0c52a64d",
   "metadata": {},
   "source": [
    "#### Now evaluating the model accuracy with test data and train data"
   ]
  },
  {
   "cell_type": "code",
   "execution_count": 69,
   "id": "8711c9dd",
   "metadata": {},
   "outputs": [
    {
     "name": "stdout",
     "output_type": "stream",
     "text": [
      "313/313 [==============================] - 1s 2ms/step - loss: 0.3591 - accuracy: 0.8706\n",
      "test_acc: 0.8705999851226807\n"
     ]
    }
   ],
   "source": [
    "test_loss, test_acc = model.evaluate(test_images, test_labels)\n",
    "print(f\"test_acc: {test_acc}\")"
   ]
  },
  {
   "cell_type": "markdown",
   "id": "caef07d2",
   "metadata": {},
   "source": [
    "Now evaluating the model with train data"
   ]
  },
  {
   "cell_type": "code",
   "execution_count": 70,
   "id": "3b1fcb13",
   "metadata": {},
   "outputs": [
    {
     "name": "stdout",
     "output_type": "stream",
     "text": [
      "1875/1875 [==============================] - 5s 2ms/step - loss: 0.2832 - accuracy: 0.8943\n",
      "train_acc: 0.894266664981842\n"
     ]
    }
   ],
   "source": [
    "test_loss, train_acc = model.evaluate(train_images, train_labels)\n",
    "print(f\"train_acc: {train_acc}\")"
   ]
  },
  {
   "cell_type": "markdown",
   "id": "b3e7236f",
   "metadata": {},
   "source": [
    "#### Confusion Matrix"
   ]
  },
  {
   "cell_type": "code",
   "execution_count": 71,
   "id": "61dec5f8",
   "metadata": {},
   "outputs": [
    {
     "name": "stdout",
     "output_type": "stream",
     "text": [
      "313/313 [==============================] - 1s 2ms/step\n"
     ]
    }
   ],
   "source": [
    "predictions = model.predict(test_images)"
   ]
  },
  {
   "cell_type": "code",
   "execution_count": 72,
   "id": "3451e428",
   "metadata": {},
   "outputs": [],
   "source": [
    "predicted_labels = np.argmax(predictions, axis=1)"
   ]
  },
  {
   "cell_type": "code",
   "execution_count": 73,
   "id": "6b93bfe0",
   "metadata": {},
   "outputs": [],
   "source": [
    "confusion_mat = confusion_matrix(test_labels, predicted_labels)"
   ]
  },
  {
   "cell_type": "code",
   "execution_count": 74,
   "id": "6b1b0dca",
   "metadata": {},
   "outputs": [
    {
     "data": {
      "text/plain": [
       "array([[877,   0,   9,   7,   5,   0,  86,   0,  16,   0],\n",
       "       [  8, 962,   1,  21,   4,   0,   3,   0,   1,   0],\n",
       "       [ 21,   0, 689,   5, 178,   0, 100,   0,   7,   0],\n",
       "       [ 63,   4,  10, 818,  26,   0,  71,   0,   8,   0],\n",
       "       [  0,   0,  46,  16, 813,   0, 115,   0,  10,   0],\n",
       "       [  0,   0,   0,   1,   0, 959,   0,  23,   2,  15],\n",
       "       [151,   0,  60,  13,  72,   0, 686,   0,  18,   0],\n",
       "       [  0,   0,   0,   0,   0,  12,   0, 968,   2,  18],\n",
       "       [  1,   0,   2,   3,   1,   2,   4,   3, 984,   0],\n",
       "       [  0,   0,   0,   0,   0,   4,   1,  45,   0, 950]], dtype=int64)"
      ]
     },
     "execution_count": 74,
     "metadata": {},
     "output_type": "execute_result"
    }
   ],
   "source": [
    "confusion_mat"
   ]
  },
  {
   "cell_type": "code",
   "execution_count": 75,
   "id": "5dbb0412",
   "metadata": {},
   "outputs": [
    {
     "data": {
      "image/png": "[encoded data removed]",
      "text/plain": [
       "<Figure size 576x432 with 2 Axes>"
      ]
     },
     "metadata": {
      "needs_background": "light"
     },
     "output_type": "display_data"
    }
   ],
   "source": [
    "import seaborn as sns\n",
    "plt.figure(figsize=(8, 6))\n",
    "sns.heatmap(confusion_mat, annot=True, fmt=\"d\", cmap=\"Greens\", xticklabels=class_name, yticklabels=class_name)\n",
    "plt.xlabel(\"Predicted Labels\")\n",
    "plt.ylabel(\"True Labels\")\n",
    "plt.title(\"Confusion Matrix\")\n",
    "plt.show()"
   ]
  },
  {
   "cell_type": "markdown",
   "id": "2a465c13",
   "metadata": {},
   "source": [
    "From Confusion Matrix, we can get a several understanding from the model's performance on different classes.\n",
    "In confusion Matrix, the number of matrix element which made diagonal elements were considered as classified correclty whereas\n",
    "matrix elements outside diagonal or off-diagonal elements were classified as misclassification.\n",
    "\n",
    "Classes with high Diagonal values like T-shirt,Trouser,Sandal,Bag depicts that model done well for these classes with differentiating correclty\n",
    "\n",
    "Classes with off diagonal values like T-shirt and Shirt is misclassified, coat, shirt were also misclassified as pullover and \n",
    "sneaker were also misclassified sometimes as ankle boot or sandal.\n",
    "\n",
    "\n",
    "\n"
   ]
  },
  {
   "cell_type": "code",
   "execution_count": null,
   "id": "7dc201cc",
   "metadata": {},
   "outputs": [],
   "source": []
  }
 ],
 "metadata": {
  "kernelspec": {
   "display_name": "Python 3 (ipykernel)",
   "language": "python",
   "name": "python3"
  },
  "language_info": {
   "codemirror_mode": {
    "name": "ipython",
    "version": 3
   },
   "file_extension": ".py",
   "mimetype": "text/x-python",
   "name": "python",
   "nbconvert_exporter": "python",
   "pygments_lexer": "ipython3",
   "version": "3.9.7"
  }
 },
 "nbformat": 4,
 "nbformat_minor": 5
}
