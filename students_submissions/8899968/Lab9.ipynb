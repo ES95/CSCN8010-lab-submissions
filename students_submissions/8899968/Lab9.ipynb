{
 "cells": [
  {
   "cell_type": "markdown",
   "metadata": {},
   "source": [
    "## Lab 9 by Abijith Suresh km"
   ]
  },
  {
   "cell_type": "markdown",
   "metadata": {},
   "source": [
    "1. Using Keras Datasets, obtain the fMNIST data set. Explore and describe it as you would do with any new dataset that you start working with"
   ]
  },
  {
   "cell_type": "code",
   "execution_count": 64,
   "metadata": {},
   "outputs": [],
   "source": [
    "from tensorflow.keras.datasets import mnist\n",
    "from tensorflow import keras\n",
    "from tensorflow.keras import layers\n",
    "import tensorflow as tf\n",
    "from tensorflow.keras.models import Sequential\n",
    "from tensorflow.keras.layers import Dense, Flatten\n",
    "import numpy as np\n",
    "from sklearn.metrics import (\n",
    "    confusion_matrix,\n",
    "    accuracy_score,\n",
    "    precision_score,\n",
    "    recall_score,\n",
    "    f1_score\n",
    ")"
   ]
  },
  {
   "cell_type": "code",
   "execution_count": 65,
   "metadata": {},
   "outputs": [],
   "source": [
    "(x_train, y_train), (x_test, y_test) = tf.keras.datasets.fashion_mnist.load_data()\n"
   ]
  },
  {
   "cell_type": "code",
   "execution_count": 66,
   "metadata": {},
   "outputs": [
    {
     "name": "stdout",
     "output_type": "stream",
     "text": [
      "Image DType: <class 'numpy.ndarray'>\n",
      "Image Element DType: <class 'numpy.uint8'>\n",
      "Label Element DType: <class 'numpy.uint8'>\n",
      "**Shapes:**\n",
      "Train Data:\n",
      "Images: (60000, 28, 28)\n",
      "Labels: (60000,)\n",
      "Test Data:\n",
      "Images: (10000, 28, 28)\n",
      "Labels: (10000,)\n",
      "Image Data Range:\n",
      "Min: 0\n",
      "Max: 255\n"
     ]
    }
   ],
   "source": [
    "print(f'Image DType: {type(x_train)}')\n",
    "print(f'Image Element DType: {type(x_train[0,0,0])}')\n",
    "print(f'Label Element DType: {type(y_train[0])}')\n",
    "print('**Shapes:**')\n",
    "print('Train Data:')\n",
    "print(f'Images: {x_train.shape}')\n",
    "print(f'Labels: {y_train.shape}')\n",
    "print('Test Data:') \n",
    "print(f'Images: {x_test.shape}')\n",
    "print(f'Labels: {y_test.shape}')\n",
    "print('Image Data Range:')\n",
    "print(f'Min: {x_train.min()}')\n",
    "print(f'Max: {x_train.max()}')"
   ]
  },
  {
   "cell_type": "markdown",
   "metadata": {},
   "source": [
    "- The training set contains 60,000 images of size 28x28 pixels, and the test set contains 10,000 images of the same size.\n",
    "\n"
   ]
  },
  {
   "cell_type": "code",
   "execution_count": 67,
   "metadata": {},
   "outputs": [
    {
     "data": {
      "text/plain": [
       "<matplotlib.image.AxesImage at 0x242a868e190>"
      ]
     },
     "execution_count": 67,
     "metadata": {},
     "output_type": "execute_result"
    },
    {
     "data": {
      "image/png": "[encoded data removed]",
      "text/plain": [
       "<Figure size 640x480 with 1 Axes>"
      ]
     },
     "metadata": {},
     "output_type": "display_data"
    }
   ],
   "source": [
    "import matplotlib.pyplot as plt\n",
    "plt.imshow(x_train[5], cmap='gray')  # Plotting the image from the training set. \"cmap = gray\" which means the image plotting is in Grayscale."
   ]
  },
  {
   "cell_type": "code",
   "execution_count": 68,
   "metadata": {},
   "outputs": [],
   "source": [
    "# Reshaping the image data to flatten each image from a 2D array of shape (28, 28) to a 1D array of shape (28 * 28) before using it for training and testing.\n",
    "#This reshaping is commonly done in machine learning tasks, especially when using certain algorithms that require the data to be in a 2D format.\n",
    "\n",
    "train_images = x_train.reshape((60000, 28 * 28))\n",
    "test_images = x_test.reshape((10000, 28 * 28))"
   ]
  },
  {
   "cell_type": "markdown",
   "metadata": {},
   "source": [
    "After reshaping the train_images and test_images to have a shape of (60000, 784) and (10000, 784), respectively, the provided code snippet further processes the image data by converting the pixel values to floating-point numbers and normalizing them to the range [0, 1]."
   ]
  },
  {
   "cell_type": "code",
   "execution_count": 69,
   "metadata": {},
   "outputs": [],
   "source": [
    "train_images = train_images.astype(\"float32\") / 255  \n",
    "test_images = test_images.astype(\"float32\") / 255"
   ]
  },
  {
   "cell_type": "code",
   "execution_count": 70,
   "metadata": {},
   "outputs": [],
   "source": [
    "# Define the input layer\n",
    "inputs = tf.keras.Input(shape=(784,))  # Assuming each image has a shape of (28, 28) when flattened\n",
    "\n",
    "# Define the first hidden layer\n",
    "hidden_layer = tf.keras.layers.Dense(128, activation='relu')(inputs)\n",
    "\n",
    "# Define the output layer\n",
    "outputs = tf.keras.layers.Dense(10)(hidden_layer)\n",
    "\n",
    "# Create the model\n",
    "model = tf.keras.Model(inputs=inputs, outputs=outputs)"
   ]
  },
  {
   "cell_type": "code",
   "execution_count": 71,
   "metadata": {},
   "outputs": [],
   "source": [
    "model.compile(optimizer='adam',\n",
    "              loss=tf.keras.losses.SparseCategoricalCrossentropy(from_logits=True),\n",
    "              metrics=['accuracy'])"
   ]
  },
  {
   "cell_type": "code",
   "execution_count": 72,
   "metadata": {},
   "outputs": [
    {
     "name": "stdout",
     "output_type": "stream",
     "text": [
      "Epoch 1/10\n",
      "469/469 [==============================] - 2s 2ms/step - loss: 0.5481 - accuracy: 0.8107\n",
      "Epoch 2/10\n",
      "469/469 [==============================] - 1s 2ms/step - loss: 0.4051 - accuracy: 0.8588\n",
      "Epoch 3/10\n",
      "469/469 [==============================] - 1s 2ms/step - loss: 0.3646 - accuracy: 0.8713\n",
      "Epoch 4/10\n",
      "469/469 [==============================] - 1s 2ms/step - loss: 0.3403 - accuracy: 0.8785\n",
      "Epoch 5/10\n",
      "469/469 [==============================] - 1s 2ms/step - loss: 0.3173 - accuracy: 0.8861\n",
      "Epoch 6/10\n",
      "469/469 [==============================] - 1s 2ms/step - loss: 0.3049 - accuracy: 0.8886\n",
      "Epoch 7/10\n",
      "469/469 [==============================] - 1s 2ms/step - loss: 0.2902 - accuracy: 0.8943\n",
      "Epoch 8/10\n",
      "469/469 [==============================] - 1s 2ms/step - loss: 0.2814 - accuracy: 0.8973\n",
      "Epoch 9/10\n",
      "469/469 [==============================] - 1s 2ms/step - loss: 0.2668 - accuracy: 0.9025\n",
      "Epoch 10/10\n",
      "469/469 [==============================] - 1s 2ms/step - loss: 0.2600 - accuracy: 0.9046\n"
     ]
    },
    {
     "data": {
      "text/plain": [
       "<keras.callbacks.History at 0x242ab9ad450>"
      ]
     },
     "execution_count": 72,
     "metadata": {},
     "output_type": "execute_result"
    }
   ],
   "source": [
    "# Training the model\n",
    "model.fit(train_images, y_train, epochs=10, batch_size=128)\n"
   ]
  },
  {
   "cell_type": "code",
   "execution_count": 73,
   "metadata": {},
   "outputs": [
    {
     "name": "stdout",
     "output_type": "stream",
     "text": [
      "313/313 - 0s - loss: 0.3221 - accuracy: 0.8847 - 436ms/epoch - 1ms/step\n"
     ]
    }
   ],
   "source": [
    "test_acc = model.evaluate(test_images,  y_test, verbose=2)"
   ]
  },
  {
   "cell_type": "markdown",
   "metadata": {},
   "source": [
    "softmax is adding to get the probablity for each class."
   ]
  },
  {
   "cell_type": "code",
   "execution_count": 79,
   "metadata": {},
   "outputs": [
    {
     "name": "stdout",
     "output_type": "stream",
     "text": [
      "313/313 [==============================] - 0s 1ms/step\n",
      "[9 2 1 ... 8 1 5]\n"
     ]
    },
    {
     "data": {
      "text/plain": [
       "array([[869,   0,   9,  19,   4,   0,  90,   1,   8,   0],\n",
       "       [  3, 972,   0,  17,   3,   0,   4,   0,   1,   0],\n",
       "       [ 24,   0, 779,  12, 107,   0,  78,   0,   0,   0],\n",
       "       [ 25,   7,   8, 890,  43,   0,  25,   0,   2,   0],\n",
       "       [  0,   0,  83,  29, 830,   0,  58,   0,   0,   0],\n",
       "       [  0,   0,   0,   1,   0, 964,   0,  21,   1,  13],\n",
       "       [149,   2,  74,  23,  79,   0, 668,   0,   5,   0],\n",
       "       [  0,   0,   0,   0,   0,  15,   0, 961,   0,  24],\n",
       "       [  7,   0,   3,   7,   5,   2,   9,   5, 962,   0],\n",
       "       [  0,   0,   0,   0,   0,  10,   1,  37,   0, 952]], dtype=int64)"
      ]
     },
     "execution_count": 79,
     "metadata": {},
     "output_type": "execute_result"
    }
   ],
   "source": [
    "probability_model = tf.keras.Sequential([model, \n",
    "                                         tf.keras.layers.Softmax()])\n",
    "predictions = probability_model.predict(test_images)\n",
    "\n",
    "y_argmax_prediction = np.argmax(predictions, axis=1)\n",
    "print(y_argmax_prediction)\n",
    "\n",
    "#confusion matrix to show the precision and recall\n",
    "confusion_matrix(y_test, y_argmax_prediction)\n"
   ]
  },
  {
   "cell_type": "code",
   "execution_count": 80,
   "metadata": {},
   "outputs": [],
   "source": [
    "# Class names for visualization\n",
    "class_names = [\"T-shirt/top\", \"Trouser\", \"Pullover\", \"Dress\", \"Coat\",\n",
    "               \"Sandal\", \"Shirt\", \"Sneaker\", \"Bag\", \"Ankle boot\"]\n",
    "# Explore specific examples of incorrect classifications\n",
    "incorrect_indices = np.where(y_argmax_prediction != y_test)[0]\n",
    "num_examples = 3"
   ]
  },
  {
   "cell_type": "code",
   "execution_count": 82,
   "metadata": {},
   "outputs": [
    {
     "name": "stdout",
     "output_type": "stream",
     "text": [
      "\n",
      "Examples of Incorrect Classifications:\n",
      "Predicted: Sandal, True: Sneaker, Confidence: 700.00%\n"
     ]
    },
    {
     "data": {
      "image/png": "[encoded data removed]",
      "text/plain": [
       "<Figure size 640x480 with 1 Axes>"
      ]
     },
     "metadata": {},
     "output_type": "display_data"
    },
    {
     "name": "stdout",
     "output_type": "stream",
     "text": [
      "Predicted: Pullover, True: Coat, Confidence: 400.00%\n"
     ]
    },
    {
     "data": {
      "image/png": "[encoded data removed]",
      "text/plain": [
       "<Figure size 640x480 with 1 Axes>"
      ]
     },
     "metadata": {},
     "output_type": "display_data"
    },
    {
     "name": "stdout",
     "output_type": "stream",
     "text": [
      "Predicted: Sandal, True: Ankle boot, Confidence: 900.00%\n"
     ]
    },
    {
     "data": {
      "image/png": "[encoded data removed]",
      "text/plain": [
       "<Figure size 640x480 with 1 Axes>"
      ]
     },
     "metadata": {},
     "output_type": "display_data"
    }
   ],
   "source": [
    "print(\"\\nExamples of Incorrect Classifications:\")\n",
    "for i in range(num_examples):\n",
    "    idx = incorrect_indices[i]\n",
    "    predicted_class = class_names[y_argmax_prediction[idx]]\n",
    "    true_class = class_names[y_test[idx]]\n",
    "    confidence = np.max(y_test[idx]) * 100\n",
    "    print(f\"Predicted: {predicted_class}, True: {true_class}, Confidence: {confidence:.2f}%\")\n",
    "    plt.imshow(x_test[idx].reshape(28, 28), cmap='gray')\n",
    "    plt.title(f\"Predicted: {predicted_class}\\nTrue: {true_class}\")\n",
    "    plt.axis('off')\n",
    "    plt.show()"
   ]
  }
 ],
 "metadata": {
  "kernelspec": {
   "display_name": "tensorflow_cpu",
   "language": "python",
   "name": "tensorflow_cpu"
  },
  "language_info": {
   "codemirror_mode": {
    "name": "ipython",
    "version": 3
   },
   "file_extension": ".py",
   "mimetype": "text/x-python",
   "name": "python",
   "nbconvert_exporter": "python",
   "pygments_lexer": "ipython3",
   "version": "3.11.3"
  },
  "orig_nbformat": 4
 },
 "nbformat": 4,
 "nbformat_minor": 2
}
